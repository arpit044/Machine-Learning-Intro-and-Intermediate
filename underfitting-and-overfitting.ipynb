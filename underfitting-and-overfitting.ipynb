{
 "cells": [
  {
   "cell_type": "markdown",
   "id": "outdoor-opening",
   "metadata": {
    "papermill": {
     "duration": 0.009625,
     "end_time": "2021-05-14T10:40:11.659917",
     "exception": false,
     "start_time": "2021-05-14T10:40:11.650292",
     "status": "completed"
    },
    "tags": []
   },
   "source": [
    "**This notebook is an exercise in the [Introduction to Machine Learning](https://www.kaggle.com/learn/intro-to-machine-learning) course.  You can reference the tutorial at [this link](https://www.kaggle.com/dansbecker/underfitting-and-overfitting).**\n",
    "\n",
    "---\n"
   ]
  },
  {
   "cell_type": "markdown",
   "id": "mexican-table",
   "metadata": {
    "papermill": {
     "duration": 0.00855,
     "end_time": "2021-05-14T10:40:11.677678",
     "exception": false,
     "start_time": "2021-05-14T10:40:11.669128",
     "status": "completed"
    },
    "tags": []
   },
   "source": [
    "## Recap\n",
    "You've built your first model, and now it's time to optimize the size of the tree to make better predictions. Run this cell to set up your coding environment where the previous step left off."
   ]
  },
  {
   "cell_type": "code",
   "execution_count": 1,
   "id": "competent-lexington",
   "metadata": {
    "execution": {
     "iopub.execute_input": "2021-05-14T10:40:11.704910Z",
     "iopub.status.busy": "2021-05-14T10:40:11.704228Z",
     "iopub.status.idle": "2021-05-14T10:40:13.184652Z",
     "shell.execute_reply": "2021-05-14T10:40:13.183494Z"
    },
    "papermill": {
     "duration": 1.498309,
     "end_time": "2021-05-14T10:40:13.184894",
     "exception": false,
     "start_time": "2021-05-14T10:40:11.686585",
     "status": "completed"
    },
    "tags": []
   },
   "outputs": [
    {
     "name": "stdout",
     "output_type": "stream",
     "text": [
      "Validation MAE: 29,653\n",
      "\n",
      "Setup complete\n"
     ]
    }
   ],
   "source": [
    "# Code you have previously used to load data\n",
    "import pandas as pd\n",
    "from sklearn.metrics import mean_absolute_error\n",
    "from sklearn.model_selection import train_test_split\n",
    "from sklearn.tree import DecisionTreeRegressor\n",
    "\n",
    "\n",
    "# Path of the file to read\n",
    "iowa_file_path = '../input/home-data-for-ml-course/train.csv'\n",
    "\n",
    "home_data = pd.read_csv(iowa_file_path)\n",
    "# Create target object and call it y\n",
    "y = home_data.SalePrice\n",
    "# Create X\n",
    "features = ['LotArea', 'YearBuilt', '1stFlrSF', '2ndFlrSF', 'FullBath', 'BedroomAbvGr', 'TotRmsAbvGrd']\n",
    "X = home_data[features]\n",
    "\n",
    "# Split into validation and training data\n",
    "train_X, val_X, train_y, val_y = train_test_split(X, y, random_state=1)\n",
    "\n",
    "# Specify Model\n",
    "iowa_model = DecisionTreeRegressor(random_state=1)\n",
    "# Fit Model\n",
    "iowa_model.fit(train_X, train_y)\n",
    "\n",
    "# Make validation predictions and calculate mean absolute error\n",
    "val_predictions = iowa_model.predict(val_X)\n",
    "val_mae = mean_absolute_error(val_predictions, val_y)\n",
    "print(\"Validation MAE: {:,.0f}\".format(val_mae))\n",
    "\n",
    "# Set up code checking\n",
    "from learntools.core import binder\n",
    "binder.bind(globals())\n",
    "from learntools.machine_learning.ex5 import *\n",
    "print(\"\\nSetup complete\")"
   ]
  },
  {
   "cell_type": "markdown",
   "id": "worse-leave",
   "metadata": {
    "papermill": {
     "duration": 0.008719,
     "end_time": "2021-05-14T10:40:13.203794",
     "exception": false,
     "start_time": "2021-05-14T10:40:13.195075",
     "status": "completed"
    },
    "tags": []
   },
   "source": [
    "# Exercises\n",
    "You could write the function `get_mae` yourself. For now, we'll supply it. This is the same function you read about in the previous lesson. Just run the cell below."
   ]
  },
  {
   "cell_type": "code",
   "execution_count": 2,
   "id": "immediate-spencer",
   "metadata": {
    "execution": {
     "iopub.execute_input": "2021-05-14T10:40:13.228614Z",
     "iopub.status.busy": "2021-05-14T10:40:13.227822Z",
     "iopub.status.idle": "2021-05-14T10:40:13.230824Z",
     "shell.execute_reply": "2021-05-14T10:40:13.230197Z"
    },
    "papermill": {
     "duration": 0.018041,
     "end_time": "2021-05-14T10:40:13.230959",
     "exception": false,
     "start_time": "2021-05-14T10:40:13.212918",
     "status": "completed"
    },
    "tags": []
   },
   "outputs": [],
   "source": [
    "def get_mae(max_leaf_nodes, train_X, val_X, train_y, val_y):\n",
    "    model = DecisionTreeRegressor(max_leaf_nodes=max_leaf_nodes, random_state=0)\n",
    "    model.fit(train_X, train_y)\n",
    "    preds_val = model.predict(val_X)\n",
    "    mae = mean_absolute_error(val_y, preds_val)\n",
    "    return(mae)"
   ]
  },
  {
   "cell_type": "markdown",
   "id": "false-amino",
   "metadata": {
    "papermill": {
     "duration": 0.009816,
     "end_time": "2021-05-14T10:40:13.250151",
     "exception": false,
     "start_time": "2021-05-14T10:40:13.240335",
     "status": "completed"
    },
    "tags": []
   },
   "source": [
    "## Step 1: Compare Different Tree Sizes\n",
    "Write a loop that tries the following values for *max_leaf_nodes* from a set of possible values.\n",
    "\n",
    "Call the *get_mae* function on each value of max_leaf_nodes. Store the output in some way that allows you to select the value of `max_leaf_nodes` that gives the most accurate model on your data."
   ]
  },
  {
   "cell_type": "code",
   "execution_count": 3,
   "id": "beautiful-challenge",
   "metadata": {
    "execution": {
     "iopub.execute_input": "2021-05-14T10:40:13.277246Z",
     "iopub.status.busy": "2021-05-14T10:40:13.276441Z",
     "iopub.status.idle": "2021-05-14T10:40:13.324592Z",
     "shell.execute_reply": "2021-05-14T10:40:13.325076Z"
    },
    "papermill": {
     "duration": 0.066018,
     "end_time": "2021-05-14T10:40:13.325248",
     "exception": false,
     "start_time": "2021-05-14T10:40:13.259230",
     "status": "completed"
    },
    "tags": []
   },
   "outputs": [
    {
     "data": {
      "application/javascript": [
       "parent.postMessage({\"jupyterEvent\": \"custom.exercise_interaction\", \"data\": {\"outcomeType\": 1, \"valueTowardsCompletion\": 0.5, \"interactionType\": 1, \"questionType\": 1, \"questionId\": \"1_BestTreeSize\", \"learnToolsVersion\": \"0.3.4\", \"failureMessage\": \"\", \"exceptionClass\": \"\", \"trace\": \"\"}}, \"*\")"
      ],
      "text/plain": [
       "<IPython.core.display.Javascript object>"
      ]
     },
     "metadata": {},
     "output_type": "display_data"
    },
    {
     "data": {
      "text/markdown": [
       "<span style=\"color:#33cc33\">Correct</span>"
      ],
      "text/plain": [
       "Correct"
      ]
     },
     "metadata": {},
     "output_type": "display_data"
    }
   ],
   "source": [
    "candidate_max_leaf_nodes = [5, 25, 50, 100, 250, 500]\n",
    "# Write loop to find the ideal tree size from candidate_max_leaf_nodes\n",
    "\n",
    "\n",
    "scores = {leaf_size: get_mae(leaf_size, train_X, val_X, train_y, val_y) for leaf_size in candidate_max_leaf_nodes}\n",
    "best_tree_size = min(scores, key=scores.get)\n",
    "\n",
    "\n",
    "# Check your answer\n",
    "step_1.check()"
   ]
  },
  {
   "cell_type": "code",
   "execution_count": 4,
   "id": "blond-denver",
   "metadata": {
    "execution": {
     "iopub.execute_input": "2021-05-14T10:40:13.350933Z",
     "iopub.status.busy": "2021-05-14T10:40:13.349977Z",
     "iopub.status.idle": "2021-05-14T10:40:13.353623Z",
     "shell.execute_reply": "2021-05-14T10:40:13.353120Z"
    },
    "papermill": {
     "duration": 0.018125,
     "end_time": "2021-05-14T10:40:13.353801",
     "exception": false,
     "start_time": "2021-05-14T10:40:13.335676",
     "status": "completed"
    },
    "tags": []
   },
   "outputs": [],
   "source": [
    "# The lines below will show you a hint or the solution.\n",
    "# step_1.hint() \n",
    "# step_1.solution()"
   ]
  },
  {
   "cell_type": "markdown",
   "id": "embedded-leone",
   "metadata": {
    "papermill": {
     "duration": 0.010158,
     "end_time": "2021-05-14T10:40:13.374458",
     "exception": false,
     "start_time": "2021-05-14T10:40:13.364300",
     "status": "completed"
    },
    "tags": []
   },
   "source": [
    "## Step 2: Fit Model Using All Data\n",
    "You know the best tree size. If you were going to deploy this model in practice, you would make it even more accurate by using all of the data and keeping that tree size.  That is, you don't need to hold out the validation data now that you've made all your modeling decisions."
   ]
  },
  {
   "cell_type": "code",
   "execution_count": 5,
   "id": "clear-motion",
   "metadata": {
    "execution": {
     "iopub.execute_input": "2021-05-14T10:40:13.401139Z",
     "iopub.status.busy": "2021-05-14T10:40:13.400113Z",
     "iopub.status.idle": "2021-05-14T10:40:13.415674Z",
     "shell.execute_reply": "2021-05-14T10:40:13.416187Z"
    },
    "papermill": {
     "duration": 0.03145,
     "end_time": "2021-05-14T10:40:13.416371",
     "exception": false,
     "start_time": "2021-05-14T10:40:13.384921",
     "status": "completed"
    },
    "tags": []
   },
   "outputs": [
    {
     "data": {
      "application/javascript": [
       "parent.postMessage({\"jupyterEvent\": \"custom.exercise_interaction\", \"data\": {\"outcomeType\": 1, \"valueTowardsCompletion\": 0.5, \"interactionType\": 1, \"questionType\": 2, \"questionId\": \"2_FitModelWithAllData\", \"learnToolsVersion\": \"0.3.4\", \"failureMessage\": \"\", \"exceptionClass\": \"\", \"trace\": \"\"}}, \"*\")"
      ],
      "text/plain": [
       "<IPython.core.display.Javascript object>"
      ]
     },
     "metadata": {},
     "output_type": "display_data"
    },
    {
     "data": {
      "text/markdown": [
       "<span style=\"color:#33cc33\">Correct</span>"
      ],
      "text/plain": [
       "Correct"
      ]
     },
     "metadata": {},
     "output_type": "display_data"
    }
   ],
   "source": [
    "# Fill in argument to make optimal size and uncomment\n",
    "# final_model = DecisionTreeRegressor(____)\n",
    "\n",
    "final_model = DecisionTreeRegressor(max_leaf_nodes=best_tree_size, random_state=1)\n",
    "\n",
    "\n",
    "final_model.fit(X, y)\n",
    "\n",
    "# Check your answer\n",
    "step_2.check()"
   ]
  },
  {
   "cell_type": "code",
   "execution_count": 6,
   "id": "champion-clear",
   "metadata": {
    "execution": {
     "iopub.execute_input": "2021-05-14T10:40:13.445977Z",
     "iopub.status.busy": "2021-05-14T10:40:13.445040Z",
     "iopub.status.idle": "2021-05-14T10:40:13.448370Z",
     "shell.execute_reply": "2021-05-14T10:40:13.448888Z"
    },
    "papermill": {
     "duration": 0.019036,
     "end_time": "2021-05-14T10:40:13.449069",
     "exception": false,
     "start_time": "2021-05-14T10:40:13.430033",
     "status": "completed"
    },
    "tags": []
   },
   "outputs": [],
   "source": [
    "# step_2.hint()\n",
    "#step_2.solution()"
   ]
  },
  {
   "cell_type": "markdown",
   "id": "brave-soundtrack",
   "metadata": {
    "papermill": {
     "duration": 0.011695,
     "end_time": "2021-05-14T10:40:13.472592",
     "exception": false,
     "start_time": "2021-05-14T10:40:13.460897",
     "status": "completed"
    },
    "tags": []
   },
   "source": [
    "You've tuned this model and improved your results. But we are still using Decision Tree models, which are not very sophisticated by modern machine learning standards. In the next step you will learn to use Random Forests to improve your models even more.\n",
    "\n",
    "# Keep Going\n",
    "\n",
    "You are ready for **[Random Forests](https://www.kaggle.com/dansbecker/random-forests).**\n"
   ]
  },
  {
   "cell_type": "markdown",
   "id": "clean-butter",
   "metadata": {
    "papermill": {
     "duration": 0.011693,
     "end_time": "2021-05-14T10:40:13.496365",
     "exception": false,
     "start_time": "2021-05-14T10:40:13.484672",
     "status": "completed"
    },
    "tags": []
   },
   "source": [
    "---\n",
    "\n",
    "\n",
    "\n",
    "\n",
    "*Have questions or comments? Visit the [Learn Discussion forum](https://www.kaggle.com/learn-forum/161285) to chat with other Learners.*"
   ]
  }
 ],
 "metadata": {
  "kernelspec": {
   "display_name": "Python 3",
   "language": "python",
   "name": "python3"
  },
  "language_info": {
   "codemirror_mode": {
    "name": "ipython",
    "version": 3
   },
   "file_extension": ".py",
   "mimetype": "text/x-python",
   "name": "python",
   "nbconvert_exporter": "python",
   "pygments_lexer": "ipython3",
   "version": "3.7.9"
  },
  "papermill": {
   "default_parameters": {},
   "duration": 9.857754,
   "end_time": "2021-05-14T10:40:15.135198",
   "environment_variables": {},
   "exception": null,
   "input_path": "__notebook__.ipynb",
   "output_path": "__notebook__.ipynb",
   "parameters": {},
   "start_time": "2021-05-14T10:40:05.277444",
   "version": "2.3.2"
  }
 },
 "nbformat": 4,
 "nbformat_minor": 5
}
