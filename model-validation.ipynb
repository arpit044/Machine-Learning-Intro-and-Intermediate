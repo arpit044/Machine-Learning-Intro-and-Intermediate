{
 "cells": [
  {
   "cell_type": "markdown",
   "id": "integral-experience",
   "metadata": {
    "papermill": {
     "duration": 0.013345,
     "end_time": "2021-05-14T10:35:34.819198",
     "exception": false,
     "start_time": "2021-05-14T10:35:34.805853",
     "status": "completed"
    },
    "tags": []
   },
   "source": [
    "**This notebook is an exercise in the [Introduction to Machine Learning](https://www.kaggle.com/learn/intro-to-machine-learning) course.  You can reference the tutorial at [this link](https://www.kaggle.com/dansbecker/model-validation).**\n",
    "\n",
    "---\n"
   ]
  },
  {
   "cell_type": "markdown",
   "id": "missing-comedy",
   "metadata": {
    "papermill": {
     "duration": 0.011444,
     "end_time": "2021-05-14T10:35:34.842979",
     "exception": false,
     "start_time": "2021-05-14T10:35:34.831535",
     "status": "completed"
    },
    "tags": []
   },
   "source": [
    "## Recap\n",
    "You've built a model. In this exercise you will test how good your model is.\n",
    "\n",
    "Run the cell below to set up your coding environment where the previous exercise left off."
   ]
  },
  {
   "cell_type": "code",
   "execution_count": 1,
   "id": "damaged-siemens",
   "metadata": {
    "execution": {
     "iopub.execute_input": "2021-05-14T10:35:34.870858Z",
     "iopub.status.busy": "2021-05-14T10:35:34.869689Z",
     "iopub.status.idle": "2021-05-14T10:35:36.360629Z",
     "shell.execute_reply": "2021-05-14T10:35:36.359524Z"
    },
    "papermill": {
     "duration": 1.506163,
     "end_time": "2021-05-14T10:35:36.360911",
     "exception": false,
     "start_time": "2021-05-14T10:35:34.854748",
     "status": "completed"
    },
    "tags": []
   },
   "outputs": [
    {
     "name": "stdout",
     "output_type": "stream",
     "text": [
      "First in-sample predictions: [208500. 181500. 223500. 140000. 250000.]\n",
      "Actual target values for those homes: [208500, 181500, 223500, 140000, 250000]\n",
      "Setup Complete\n"
     ]
    }
   ],
   "source": [
    "# Code you have previously used to load data\n",
    "import pandas as pd\n",
    "from sklearn.tree import DecisionTreeRegressor\n",
    "\n",
    "# Path of the file to read\n",
    "iowa_file_path = '../input/home-data-for-ml-course/train.csv'\n",
    "\n",
    "home_data = pd.read_csv(iowa_file_path)\n",
    "y = home_data.SalePrice\n",
    "feature_columns = ['LotArea', 'YearBuilt', '1stFlrSF', '2ndFlrSF', 'FullBath', 'BedroomAbvGr', 'TotRmsAbvGrd']\n",
    "X = home_data[feature_columns]\n",
    "\n",
    "# Specify Model\n",
    "iowa_model = DecisionTreeRegressor()\n",
    "# Fit Model\n",
    "iowa_model.fit(X, y)\n",
    "\n",
    "print(\"First in-sample predictions:\", iowa_model.predict(X.head()))\n",
    "print(\"Actual target values for those homes:\", y.head().tolist())\n",
    "\n",
    "# Set up code checking\n",
    "from learntools.core import binder\n",
    "binder.bind(globals())\n",
    "from learntools.machine_learning.ex4 import *\n",
    "print(\"Setup Complete\")"
   ]
  },
  {
   "cell_type": "markdown",
   "id": "complimentary-vegetable",
   "metadata": {
    "papermill": {
     "duration": 0.012201,
     "end_time": "2021-05-14T10:35:36.386578",
     "exception": false,
     "start_time": "2021-05-14T10:35:36.374377",
     "status": "completed"
    },
    "tags": []
   },
   "source": [
    "# Exercises\n",
    "\n",
    "## Step 1: Split Your Data\n",
    "Use the `train_test_split` function to split up your data.\n",
    "\n",
    "Give it the argument `random_state=1` so the `check` functions know what to expect when verifying your code.\n",
    "\n",
    "Recall, your features are loaded in the DataFrame **X** and your target is loaded in **y**.\n"
   ]
  },
  {
   "cell_type": "code",
   "execution_count": 2,
   "id": "faced-while",
   "metadata": {
    "execution": {
     "iopub.execute_input": "2021-05-14T10:35:36.418930Z",
     "iopub.status.busy": "2021-05-14T10:35:36.418125Z",
     "iopub.status.idle": "2021-05-14T10:35:36.447694Z",
     "shell.execute_reply": "2021-05-14T10:35:36.447051Z"
    },
    "papermill": {
     "duration": 0.04868,
     "end_time": "2021-05-14T10:35:36.447841",
     "exception": false,
     "start_time": "2021-05-14T10:35:36.399161",
     "status": "completed"
    },
    "tags": []
   },
   "outputs": [
    {
     "data": {
      "application/javascript": [
       "parent.postMessage({\"jupyterEvent\": \"custom.exercise_interaction\", \"data\": {\"outcomeType\": 1, \"valueTowardsCompletion\": 0.25, \"interactionType\": 1, \"questionType\": 2, \"questionId\": \"1_SplitData\", \"learnToolsVersion\": \"0.3.4\", \"failureMessage\": \"\", \"exceptionClass\": \"\", \"trace\": \"\"}}, \"*\")"
      ],
      "text/plain": [
       "<IPython.core.display.Javascript object>"
      ]
     },
     "metadata": {},
     "output_type": "display_data"
    },
    {
     "data": {
      "text/markdown": [
       "<span style=\"color:#33cc33\">Correct</span>"
      ],
      "text/plain": [
       "Correct"
      ]
     },
     "metadata": {},
     "output_type": "display_data"
    }
   ],
   "source": [
    "# Import the train_test_split function and uncomment\n",
    "from sklearn.model_selection import train_test_split\n",
    "train_X, val_X, train_y, val_y = train_test_split(X, y, random_state=1)\n",
    "# Check your answer\n",
    "step_1.check()"
   ]
  },
  {
   "cell_type": "code",
   "execution_count": 3,
   "id": "detected-closer",
   "metadata": {
    "execution": {
     "iopub.execute_input": "2021-05-14T10:35:36.480255Z",
     "iopub.status.busy": "2021-05-14T10:35:36.479348Z",
     "iopub.status.idle": "2021-05-14T10:35:36.483214Z",
     "shell.execute_reply": "2021-05-14T10:35:36.482563Z"
    },
    "papermill": {
     "duration": 0.021898,
     "end_time": "2021-05-14T10:35:36.483379",
     "exception": false,
     "start_time": "2021-05-14T10:35:36.461481",
     "status": "completed"
    },
    "tags": []
   },
   "outputs": [],
   "source": [
    "# The lines below will show you a hint or the solution.\n",
    "# step_1.hint() \n",
    "#step_1.solution()\n"
   ]
  },
  {
   "cell_type": "markdown",
   "id": "configured-timeline",
   "metadata": {
    "papermill": {
     "duration": 0.015093,
     "end_time": "2021-05-14T10:35:36.512697",
     "exception": false,
     "start_time": "2021-05-14T10:35:36.497604",
     "status": "completed"
    },
    "tags": []
   },
   "source": [
    "## Step 2: Specify and Fit the Model\n",
    "\n",
    "Create a `DecisionTreeRegressor` model and fit it to the relevant data.\n",
    "Set `random_state` to 1 again when creating the model."
   ]
  },
  {
   "cell_type": "code",
   "execution_count": 4,
   "id": "opening-orbit",
   "metadata": {
    "execution": {
     "iopub.execute_input": "2021-05-14T10:35:36.550248Z",
     "iopub.status.busy": "2021-05-14T10:35:36.549271Z",
     "iopub.status.idle": "2021-05-14T10:35:36.575171Z",
     "shell.execute_reply": "2021-05-14T10:35:36.574492Z"
    },
    "papermill": {
     "duration": 0.048875,
     "end_time": "2021-05-14T10:35:36.575322",
     "exception": false,
     "start_time": "2021-05-14T10:35:36.526447",
     "status": "completed"
    },
    "tags": []
   },
   "outputs": [
    {
     "name": "stdout",
     "output_type": "stream",
     "text": [
      "[186500. 184000. 130000.  92000. 164500. 220000. 335000. 144152. 215000.\n",
      " 262000.]\n",
      "[186500. 184000. 130000.  92000. 164500. 220000. 335000. 144152. 215000.\n",
      " 262000.]\n"
     ]
    },
    {
     "data": {
      "application/javascript": [
       "parent.postMessage({\"jupyterEvent\": \"custom.exercise_interaction\", \"data\": {\"outcomeType\": 1, \"valueTowardsCompletion\": 0.25, \"interactionType\": 1, \"questionType\": 2, \"questionId\": \"2_FitModelWithTrain\", \"learnToolsVersion\": \"0.3.4\", \"failureMessage\": \"\", \"exceptionClass\": \"\", \"trace\": \"\"}}, \"*\")"
      ],
      "text/plain": [
       "<IPython.core.display.Javascript object>"
      ]
     },
     "metadata": {},
     "output_type": "display_data"
    },
    {
     "data": {
      "text/markdown": [
       "<span style=\"color:#33cc33\">Correct</span>"
      ],
      "text/plain": [
       "Correct"
      ]
     },
     "metadata": {},
     "output_type": "display_data"
    }
   ],
   "source": [
    "# You imported DecisionTreeRegressor in your last exercise\n",
    "# and that code has been copied to the setup code above. So, no need to\n",
    "# import it again\n",
    "\n",
    "# Specify the model\n",
    "iowa_model = DecisionTreeRegressor(random_state=1)\n",
    "iowa_model.fit(train_X, train_y)\n",
    "# Check your answer\n",
    "step_2.check()"
   ]
  },
  {
   "cell_type": "code",
   "execution_count": 5,
   "id": "naval-soviet",
   "metadata": {
    "execution": {
     "iopub.execute_input": "2021-05-14T10:35:36.610204Z",
     "iopub.status.busy": "2021-05-14T10:35:36.609424Z",
     "iopub.status.idle": "2021-05-14T10:35:36.611895Z",
     "shell.execute_reply": "2021-05-14T10:35:36.612456Z"
    },
    "papermill": {
     "duration": 0.021812,
     "end_time": "2021-05-14T10:35:36.612627",
     "exception": false,
     "start_time": "2021-05-14T10:35:36.590815",
     "status": "completed"
    },
    "tags": []
   },
   "outputs": [],
   "source": [
    "# step_2.hint()\n",
    "#step_2.solution()"
   ]
  },
  {
   "cell_type": "markdown",
   "id": "instructional-village",
   "metadata": {
    "papermill": {
     "duration": 0.014933,
     "end_time": "2021-05-14T10:35:36.642900",
     "exception": false,
     "start_time": "2021-05-14T10:35:36.627967",
     "status": "completed"
    },
    "tags": []
   },
   "source": [
    "## Step 3: Make Predictions with Validation data\n"
   ]
  },
  {
   "cell_type": "code",
   "execution_count": 6,
   "id": "central-performance",
   "metadata": {
    "execution": {
     "iopub.execute_input": "2021-05-14T10:35:36.680262Z",
     "iopub.status.busy": "2021-05-14T10:35:36.679590Z",
     "iopub.status.idle": "2021-05-14T10:35:36.686873Z",
     "shell.execute_reply": "2021-05-14T10:35:36.687454Z"
    },
    "papermill": {
     "duration": 0.029317,
     "end_time": "2021-05-14T10:35:36.687624",
     "exception": false,
     "start_time": "2021-05-14T10:35:36.658307",
     "status": "completed"
    },
    "tags": []
   },
   "outputs": [
    {
     "data": {
      "application/javascript": [
       "parent.postMessage({\"jupyterEvent\": \"custom.exercise_interaction\", \"data\": {\"outcomeType\": 1, \"valueTowardsCompletion\": 0.25, \"interactionType\": 1, \"questionType\": 2, \"questionId\": \"3_ValPreds\", \"learnToolsVersion\": \"0.3.4\", \"failureMessage\": \"\", \"exceptionClass\": \"\", \"trace\": \"\"}}, \"*\")"
      ],
      "text/plain": [
       "<IPython.core.display.Javascript object>"
      ]
     },
     "metadata": {},
     "output_type": "display_data"
    },
    {
     "data": {
      "text/markdown": [
       "<span style=\"color:#33cc33\">Correct</span>"
      ],
      "text/plain": [
       "Correct"
      ]
     },
     "metadata": {},
     "output_type": "display_data"
    }
   ],
   "source": [
    "# Predict with all validation observations\n",
    "val_predictions = iowa_model.predict(val_X)\n",
    "\n",
    "\n",
    "# Check your answer\n",
    "step_3.check()"
   ]
  },
  {
   "cell_type": "code",
   "execution_count": 7,
   "id": "spiritual-victorian",
   "metadata": {
    "execution": {
     "iopub.execute_input": "2021-05-14T10:35:36.724012Z",
     "iopub.status.busy": "2021-05-14T10:35:36.723368Z",
     "iopub.status.idle": "2021-05-14T10:35:36.727399Z",
     "shell.execute_reply": "2021-05-14T10:35:36.726706Z"
    },
    "papermill": {
     "duration": 0.023681,
     "end_time": "2021-05-14T10:35:36.727539",
     "exception": false,
     "start_time": "2021-05-14T10:35:36.703858",
     "status": "completed"
    },
    "tags": []
   },
   "outputs": [],
   "source": [
    "# step_3.hint()\n",
    "#step_3.solution()"
   ]
  },
  {
   "cell_type": "markdown",
   "id": "devoted-difference",
   "metadata": {
    "papermill": {
     "duration": 0.015919,
     "end_time": "2021-05-14T10:35:36.759987",
     "exception": false,
     "start_time": "2021-05-14T10:35:36.744068",
     "status": "completed"
    },
    "tags": []
   },
   "source": [
    "Inspect your predictions and actual values from validation data."
   ]
  },
  {
   "cell_type": "code",
   "execution_count": null,
   "id": "chinese-tourism",
   "metadata": {
    "papermill": {
     "duration": 0.016586,
     "end_time": "2021-05-14T10:35:36.792922",
     "exception": false,
     "start_time": "2021-05-14T10:35:36.776336",
     "status": "completed"
    },
    "tags": []
   },
   "outputs": [],
   "source": []
  },
  {
   "cell_type": "markdown",
   "id": "sublime-mambo",
   "metadata": {
    "papermill": {
     "duration": 0.015884,
     "end_time": "2021-05-14T10:35:36.825346",
     "exception": false,
     "start_time": "2021-05-14T10:35:36.809462",
     "status": "completed"
    },
    "tags": []
   },
   "source": [
    "What do you notice that is different from what you saw with in-sample predictions (which are printed after the top code cell in this page).\n",
    "\n",
    "Do you remember why validation predictions differ from in-sample (or training) predictions? This is an important idea from the last lesson.\n",
    "\n",
    "## Step 4: Calculate the Mean Absolute Error in Validation Data\n"
   ]
  },
  {
   "cell_type": "code",
   "execution_count": 8,
   "id": "interim-emergency",
   "metadata": {
    "execution": {
     "iopub.execute_input": "2021-05-14T10:35:36.862134Z",
     "iopub.status.busy": "2021-05-14T10:35:36.861443Z",
     "iopub.status.idle": "2021-05-14T10:35:36.868741Z",
     "shell.execute_reply": "2021-05-14T10:35:36.869358Z"
    },
    "papermill": {
     "duration": 0.027669,
     "end_time": "2021-05-14T10:35:36.869532",
     "exception": false,
     "start_time": "2021-05-14T10:35:36.841863",
     "status": "completed"
    },
    "tags": []
   },
   "outputs": [
    {
     "data": {
      "application/javascript": [
       "parent.postMessage({\"jupyterEvent\": \"custom.exercise_interaction\", \"data\": {\"outcomeType\": 1, \"valueTowardsCompletion\": 0.25, \"interactionType\": 1, \"questionType\": 1, \"questionId\": \"4_MAE\", \"learnToolsVersion\": \"0.3.4\", \"failureMessage\": \"\", \"exceptionClass\": \"\", \"trace\": \"\"}}, \"*\")"
      ],
      "text/plain": [
       "<IPython.core.display.Javascript object>"
      ]
     },
     "metadata": {},
     "output_type": "display_data"
    },
    {
     "data": {
      "text/markdown": [
       "<span style=\"color:#33cc33\">Correct</span>"
      ],
      "text/plain": [
       "Correct"
      ]
     },
     "metadata": {},
     "output_type": "display_data"
    }
   ],
   "source": [
    "from sklearn.metrics import mean_absolute_error\n",
    "val_mae = mean_absolute_error(val_predictions, val_y)\n",
    "\n",
    "\n",
    "# uncomment following line to see the validation_mae\n",
    "#print(val_mae)\n",
    "\n",
    "# Check your answer\n",
    "step_4.check()"
   ]
  },
  {
   "cell_type": "code",
   "execution_count": 9,
   "id": "focused-attention",
   "metadata": {
    "execution": {
     "iopub.execute_input": "2021-05-14T10:35:36.907637Z",
     "iopub.status.busy": "2021-05-14T10:35:36.906953Z",
     "iopub.status.idle": "2021-05-14T10:35:36.910163Z",
     "shell.execute_reply": "2021-05-14T10:35:36.910701Z"
    },
    "papermill": {
     "duration": 0.023906,
     "end_time": "2021-05-14T10:35:36.910862",
     "exception": false,
     "start_time": "2021-05-14T10:35:36.886956",
     "status": "completed"
    },
    "tags": []
   },
   "outputs": [],
   "source": [
    "# step_4.hint()\n",
    "#step_4.solution()"
   ]
  },
  {
   "cell_type": "markdown",
   "id": "light-overall",
   "metadata": {
    "papermill": {
     "duration": 0.017194,
     "end_time": "2021-05-14T10:35:36.945723",
     "exception": false,
     "start_time": "2021-05-14T10:35:36.928529",
     "status": "completed"
    },
    "tags": []
   },
   "source": [
    "Is that MAE good?  There isn't a general rule for what values are good that applies across applications. But you'll see how to use (and improve) this number in the next step.\n",
    "\n",
    "# Keep Going\n",
    "\n",
    "You are ready for **[Underfitting and Overfitting](https://www.kaggle.com/dansbecker/underfitting-and-overfitting).**\n"
   ]
  },
  {
   "cell_type": "markdown",
   "id": "marked-fisher",
   "metadata": {
    "papermill": {
     "duration": 0.021721,
     "end_time": "2021-05-14T10:35:36.985097",
     "exception": false,
     "start_time": "2021-05-14T10:35:36.963376",
     "status": "completed"
    },
    "tags": []
   },
   "source": [
    "---\n",
    "\n",
    "\n",
    "\n",
    "\n",
    "*Have questions or comments? Visit the [Learn Discussion forum](https://www.kaggle.com/learn-forum/161285) to chat with other Learners.*"
   ]
  }
 ],
 "metadata": {
  "kernelspec": {
   "display_name": "Python 3",
   "language": "python",
   "name": "python3"
  },
  "language_info": {
   "codemirror_mode": {
    "name": "ipython",
    "version": 3
   },
   "file_extension": ".py",
   "mimetype": "text/x-python",
   "name": "python",
   "nbconvert_exporter": "python",
   "pygments_lexer": "ipython3",
   "version": "3.7.9"
  },
  "papermill": {
   "default_parameters": {},
   "duration": 9.400526,
   "end_time": "2021-05-14T10:35:37.713299",
   "environment_variables": {},
   "exception": null,
   "input_path": "__notebook__.ipynb",
   "output_path": "__notebook__.ipynb",
   "parameters": {},
   "start_time": "2021-05-14T10:35:28.312773",
   "version": "2.3.2"
  }
 },
 "nbformat": 4,
 "nbformat_minor": 5
}
