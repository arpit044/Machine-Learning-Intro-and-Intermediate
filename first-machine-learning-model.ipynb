{
 "cells": [
  {
   "cell_type": "markdown",
   "id": "contemporary-norwegian",
   "metadata": {
    "papermill": {
     "duration": 0.014546,
     "end_time": "2021-05-14T10:29:49.046771",
     "exception": false,
     "start_time": "2021-05-14T10:29:49.032225",
     "status": "completed"
    },
    "tags": []
   },
   "source": [
    "**This notebook is an exercise in the [Introduction to Machine Learning](https://www.kaggle.com/learn/intro-to-machine-learning) course.  You can reference the tutorial at [this link](https://www.kaggle.com/dansbecker/your-first-machine-learning-model).**\n",
    "\n",
    "---\n"
   ]
  },
  {
   "cell_type": "markdown",
   "id": "patent-crystal",
   "metadata": {
    "papermill": {
     "duration": 0.013189,
     "end_time": "2021-05-14T10:29:49.073647",
     "exception": false,
     "start_time": "2021-05-14T10:29:49.060458",
     "status": "completed"
    },
    "tags": []
   },
   "source": [
    "## Recap\n",
    "So far, you have loaded your data and reviewed it with the following code. Run this cell to set up your coding environment where the previous step left off."
   ]
  },
  {
   "cell_type": "code",
   "execution_count": 1,
   "id": "coated-arrangement",
   "metadata": {
    "execution": {
     "iopub.execute_input": "2021-05-14T10:29:49.104851Z",
     "iopub.status.busy": "2021-05-14T10:29:49.103654Z",
     "iopub.status.idle": "2021-05-14T10:29:50.500776Z",
     "shell.execute_reply": "2021-05-14T10:29:50.501552Z"
    },
    "papermill": {
     "duration": 1.414788,
     "end_time": "2021-05-14T10:29:50.501873",
     "exception": false,
     "start_time": "2021-05-14T10:29:49.087085",
     "status": "completed"
    },
    "tags": []
   },
   "outputs": [
    {
     "name": "stdout",
     "output_type": "stream",
     "text": [
      "Setup Complete\n"
     ]
    }
   ],
   "source": [
    "# Code you have previously used to load data\n",
    "import pandas as pd\n",
    "\n",
    "# Path of the file to read\n",
    "iowa_file_path = '../input/home-data-for-ml-course/train.csv'\n",
    "\n",
    "home_data = pd.read_csv(iowa_file_path)\n",
    "\n",
    "# Set up code checking\n",
    "from learntools.core import binder\n",
    "binder.bind(globals())\n",
    "from learntools.machine_learning.ex3 import *\n",
    "\n",
    "print(\"Setup Complete\")"
   ]
  },
  {
   "cell_type": "markdown",
   "id": "acute-kenya",
   "metadata": {
    "papermill": {
     "duration": 0.013539,
     "end_time": "2021-05-14T10:29:50.529930",
     "exception": false,
     "start_time": "2021-05-14T10:29:50.516391",
     "status": "completed"
    },
    "tags": []
   },
   "source": [
    "# Exercises\n",
    "\n",
    "## Step 1: Specify Prediction Target\n",
    "Select the target variable, which corresponds to the sales price. Save this to a new variable called `y`. You'll need to print a list of the columns to find the name of the column you need.\n"
   ]
  },
  {
   "cell_type": "code",
   "execution_count": 2,
   "id": "cognitive-theory",
   "metadata": {
    "collapsed": true,
    "execution": {
     "iopub.execute_input": "2021-05-14T10:29:50.561107Z",
     "iopub.status.busy": "2021-05-14T10:29:50.560465Z",
     "iopub.status.idle": "2021-05-14T10:29:50.564197Z",
     "shell.execute_reply": "2021-05-14T10:29:50.564654Z"
    },
    "jupyter": {
     "outputs_hidden": true
    },
    "papermill": {
     "duration": 0.020937,
     "end_time": "2021-05-14T10:29:50.564834",
     "exception": false,
     "start_time": "2021-05-14T10:29:50.543897",
     "status": "completed"
    },
    "tags": []
   },
   "outputs": [],
   "source": [
    "# print the list of columns in the dataset to find the name of the prediction target\n"
   ]
  },
  {
   "cell_type": "code",
   "execution_count": 3,
   "id": "divided-matthew",
   "metadata": {
    "execution": {
     "iopub.execute_input": "2021-05-14T10:29:50.596467Z",
     "iopub.status.busy": "2021-05-14T10:29:50.595787Z",
     "iopub.status.idle": "2021-05-14T10:29:50.612532Z",
     "shell.execute_reply": "2021-05-14T10:29:50.613040Z"
    },
    "papermill": {
     "duration": 0.03404,
     "end_time": "2021-05-14T10:29:50.613232",
     "exception": false,
     "start_time": "2021-05-14T10:29:50.579192",
     "status": "completed"
    },
    "tags": []
   },
   "outputs": [
    {
     "data": {
      "application/javascript": [
       "parent.postMessage({\"jupyterEvent\": \"custom.exercise_interaction\", \"data\": {\"outcomeType\": 1, \"valueTowardsCompletion\": 0.25, \"interactionType\": 1, \"questionType\": 2, \"questionId\": \"1_SetTarget\", \"learnToolsVersion\": \"0.3.4\", \"failureMessage\": \"\", \"exceptionClass\": \"\", \"trace\": \"\"}}, \"*\")"
      ],
      "text/plain": [
       "<IPython.core.display.Javascript object>"
      ]
     },
     "metadata": {},
     "output_type": "display_data"
    },
    {
     "data": {
      "text/markdown": [
       "<span style=\"color:#33cc33\">Correct</span>"
      ],
      "text/plain": [
       "Correct"
      ]
     },
     "metadata": {},
     "output_type": "display_data"
    }
   ],
   "source": [
    "y = home_data.SalePrice\n",
    "\n",
    "# Check your answer\n",
    "step_1.check()"
   ]
  },
  {
   "cell_type": "code",
   "execution_count": 4,
   "id": "champion-removal",
   "metadata": {
    "execution": {
     "iopub.execute_input": "2021-05-14T10:29:50.648370Z",
     "iopub.status.busy": "2021-05-14T10:29:50.647754Z",
     "iopub.status.idle": "2021-05-14T10:29:50.650867Z",
     "shell.execute_reply": "2021-05-14T10:29:50.651466Z"
    },
    "papermill": {
     "duration": 0.022963,
     "end_time": "2021-05-14T10:29:50.651633",
     "exception": false,
     "start_time": "2021-05-14T10:29:50.628670",
     "status": "completed"
    },
    "tags": []
   },
   "outputs": [],
   "source": [
    "# The lines below will show you a hint or the solution.\n",
    "# step_1.hint() \n",
    "#step_1.solution()"
   ]
  },
  {
   "cell_type": "markdown",
   "id": "joined-appraisal",
   "metadata": {
    "papermill": {
     "duration": 0.014931,
     "end_time": "2021-05-14T10:29:50.682053",
     "exception": false,
     "start_time": "2021-05-14T10:29:50.667122",
     "status": "completed"
    },
    "tags": []
   },
   "source": [
    "## Step 2: Create X\n",
    "Now you will create a DataFrame called `X` holding the predictive features.\n",
    "\n",
    "Since you want only some columns from the original data, you'll first create a list with the names of the columns you want in `X`.\n",
    "\n",
    "You'll use just the following columns in the list (you can copy and paste the whole list to save some typing, though you'll still need to add quotes):\n",
    "    * LotArea\n",
    "    * YearBuilt\n",
    "    * 1stFlrSF\n",
    "    * 2ndFlrSF\n",
    "    * FullBath\n",
    "    * BedroomAbvGr\n",
    "    * TotRmsAbvGrd\n",
    "\n",
    "After you've created that list of features, use it to create the DataFrame that you'll use to fit the model."
   ]
  },
  {
   "cell_type": "code",
   "execution_count": 5,
   "id": "governing-modification",
   "metadata": {
    "execution": {
     "iopub.execute_input": "2021-05-14T10:29:50.721355Z",
     "iopub.status.busy": "2021-05-14T10:29:50.720697Z",
     "iopub.status.idle": "2021-05-14T10:29:50.726042Z",
     "shell.execute_reply": "2021-05-14T10:29:50.726594Z"
    },
    "papermill": {
     "duration": 0.029414,
     "end_time": "2021-05-14T10:29:50.726787",
     "exception": false,
     "start_time": "2021-05-14T10:29:50.697373",
     "status": "completed"
    },
    "tags": []
   },
   "outputs": [
    {
     "data": {
      "application/javascript": [
       "parent.postMessage({\"jupyterEvent\": \"custom.exercise_interaction\", \"data\": {\"outcomeType\": 1, \"valueTowardsCompletion\": 0.25, \"interactionType\": 1, \"questionType\": 2, \"questionId\": \"2_SelectPredictionData\", \"learnToolsVersion\": \"0.3.4\", \"failureMessage\": \"\", \"exceptionClass\": \"\", \"trace\": \"\"}}, \"*\")"
      ],
      "text/plain": [
       "<IPython.core.display.Javascript object>"
      ]
     },
     "metadata": {},
     "output_type": "display_data"
    },
    {
     "data": {
      "text/markdown": [
       "<span style=\"color:#33cc33\">Correct</span>"
      ],
      "text/plain": [
       "Correct"
      ]
     },
     "metadata": {},
     "output_type": "display_data"
    }
   ],
   "source": [
    "# Create the list of features below\n",
    "feature_names = [\"LotArea\", \"YearBuilt\", \"1stFlrSF\", \"2ndFlrSF\",\n",
    "                      \"FullBath\", \"BedroomAbvGr\", \"TotRmsAbvGrd\"]\n",
    "\n",
    "X=home_data[feature_names]\n",
    "# Check your answer\n",
    "step_2.check()"
   ]
  },
  {
   "cell_type": "code",
   "execution_count": 6,
   "id": "sorted-japan",
   "metadata": {
    "execution": {
     "iopub.execute_input": "2021-05-14T10:29:50.763394Z",
     "iopub.status.busy": "2021-05-14T10:29:50.762717Z",
     "iopub.status.idle": "2021-05-14T10:29:50.765955Z",
     "shell.execute_reply": "2021-05-14T10:29:50.766522Z"
    },
    "papermill": {
     "duration": 0.023004,
     "end_time": "2021-05-14T10:29:50.766695",
     "exception": false,
     "start_time": "2021-05-14T10:29:50.743691",
     "status": "completed"
    },
    "tags": []
   },
   "outputs": [],
   "source": [
    "# step_2.hint()\n",
    "#step_2.solution()"
   ]
  },
  {
   "cell_type": "markdown",
   "id": "stopped-baking",
   "metadata": {
    "papermill": {
     "duration": 0.016118,
     "end_time": "2021-05-14T10:29:50.799620",
     "exception": false,
     "start_time": "2021-05-14T10:29:50.783502",
     "status": "completed"
    },
    "tags": []
   },
   "source": [
    "## Review Data\n",
    "Before building a model, take a quick look at **X** to verify it looks sensible"
   ]
  },
  {
   "cell_type": "code",
   "execution_count": 7,
   "id": "parental-lodging",
   "metadata": {
    "execution": {
     "iopub.execute_input": "2021-05-14T10:29:50.835955Z",
     "iopub.status.busy": "2021-05-14T10:29:50.835311Z",
     "iopub.status.idle": "2021-05-14T10:29:50.839494Z",
     "shell.execute_reply": "2021-05-14T10:29:50.838845Z"
    },
    "papermill": {
     "duration": 0.023399,
     "end_time": "2021-05-14T10:29:50.839644",
     "exception": false,
     "start_time": "2021-05-14T10:29:50.816245",
     "status": "completed"
    },
    "tags": []
   },
   "outputs": [],
   "source": [
    "# Review data\n",
    "# print description or statistics from X\n",
    "#print(_)\n",
    "\n",
    "# print the top few lines\n",
    "#print(_)"
   ]
  },
  {
   "cell_type": "markdown",
   "id": "expanded-basis",
   "metadata": {
    "papermill": {
     "duration": 0.017,
     "end_time": "2021-05-14T10:29:50.873625",
     "exception": false,
     "start_time": "2021-05-14T10:29:50.856625",
     "status": "completed"
    },
    "tags": []
   },
   "source": [
    "## Step 3: Specify and Fit Model\n",
    "Create a `DecisionTreeRegressor` and save it iowa_model. Ensure you've done the relevant import from sklearn to run this command.\n",
    "\n",
    "Then fit the model you just created using the data in `X` and `y` that you saved above."
   ]
  },
  {
   "cell_type": "code",
   "execution_count": 8,
   "id": "experimental-portuguese",
   "metadata": {
    "execution": {
     "iopub.execute_input": "2021-05-14T10:29:50.910350Z",
     "iopub.status.busy": "2021-05-14T10:29:50.909690Z",
     "iopub.status.idle": "2021-05-14T10:29:50.925859Z",
     "shell.execute_reply": "2021-05-14T10:29:50.926516Z"
    },
    "papermill": {
     "duration": 0.03616,
     "end_time": "2021-05-14T10:29:50.926689",
     "exception": false,
     "start_time": "2021-05-14T10:29:50.890529",
     "status": "completed"
    },
    "tags": []
   },
   "outputs": [
    {
     "data": {
      "application/javascript": [
       "parent.postMessage({\"jupyterEvent\": \"custom.exercise_interaction\", \"data\": {\"outcomeType\": 1, \"valueTowardsCompletion\": 0.25, \"interactionType\": 1, \"questionType\": 2, \"questionId\": \"3_CreateModel\", \"learnToolsVersion\": \"0.3.4\", \"failureMessage\": \"\", \"exceptionClass\": \"\", \"trace\": \"\"}}, \"*\")"
      ],
      "text/plain": [
       "<IPython.core.display.Javascript object>"
      ]
     },
     "metadata": {},
     "output_type": "display_data"
    },
    {
     "data": {
      "text/markdown": [
       "<span style=\"color:#33cc33\">Correct</span>"
      ],
      "text/plain": [
       "Correct"
      ]
     },
     "metadata": {},
     "output_type": "display_data"
    }
   ],
   "source": [
    "# from _ import _\n",
    "#specify the model. \n",
    "#For model reproducibility, set a numeric value for random_state when specifying the model\n",
    "from sklearn.tree import DecisionTreeRegressor\n",
    "iowa_model = DecisionTreeRegressor(random_state=1)\n",
    "iowa_model.fit(X, y)\n",
    "step_3.check()"
   ]
  },
  {
   "cell_type": "code",
   "execution_count": 9,
   "id": "missing-firewall",
   "metadata": {
    "execution": {
     "iopub.execute_input": "2021-05-14T10:29:50.966000Z",
     "iopub.status.busy": "2021-05-14T10:29:50.965379Z",
     "iopub.status.idle": "2021-05-14T10:29:50.968515Z",
     "shell.execute_reply": "2021-05-14T10:29:50.969088Z"
    },
    "papermill": {
     "duration": 0.024768,
     "end_time": "2021-05-14T10:29:50.969272",
     "exception": false,
     "start_time": "2021-05-14T10:29:50.944504",
     "status": "completed"
    },
    "tags": []
   },
   "outputs": [],
   "source": [
    "# step_3.hint()\n",
    "#step_3.solution()"
   ]
  },
  {
   "cell_type": "markdown",
   "id": "blank-hazard",
   "metadata": {
    "papermill": {
     "duration": 0.017669,
     "end_time": "2021-05-14T10:29:51.005184",
     "exception": false,
     "start_time": "2021-05-14T10:29:50.987515",
     "status": "completed"
    },
    "tags": []
   },
   "source": [
    "## Step 4: Make Predictions\n",
    "Make predictions with the model's `predict` command using `X` as the data. Save the results to a variable called `predictions`."
   ]
  },
  {
   "cell_type": "code",
   "execution_count": 10,
   "id": "subject-liechtenstein",
   "metadata": {
    "execution": {
     "iopub.execute_input": "2021-05-14T10:29:51.044358Z",
     "iopub.status.busy": "2021-05-14T10:29:51.043690Z",
     "iopub.status.idle": "2021-05-14T10:29:51.056747Z",
     "shell.execute_reply": "2021-05-14T10:29:51.057312Z"
    },
    "papermill": {
     "duration": 0.034408,
     "end_time": "2021-05-14T10:29:51.057484",
     "exception": false,
     "start_time": "2021-05-14T10:29:51.023076",
     "status": "completed"
    },
    "tags": []
   },
   "outputs": [
    {
     "name": "stdout",
     "output_type": "stream",
     "text": [
      "[208500. 181500. 223500. ... 266500. 142125. 147500.]\n"
     ]
    },
    {
     "data": {
      "application/javascript": [
       "parent.postMessage({\"jupyterEvent\": \"custom.exercise_interaction\", \"data\": {\"outcomeType\": 1, \"valueTowardsCompletion\": 0.25, \"interactionType\": 1, \"questionType\": 2, \"questionId\": \"4_MakePredictions\", \"learnToolsVersion\": \"0.3.4\", \"failureMessage\": \"\", \"exceptionClass\": \"\", \"trace\": \"\"}}, \"*\")"
      ],
      "text/plain": [
       "<IPython.core.display.Javascript object>"
      ]
     },
     "metadata": {},
     "output_type": "display_data"
    },
    {
     "data": {
      "text/markdown": [
       "<span style=\"color:#33cc33\">Correct</span>"
      ],
      "text/plain": [
       "Correct"
      ]
     },
     "metadata": {},
     "output_type": "display_data"
    }
   ],
   "source": [
    "predictions=iowa_model.predict(X)\n",
    "\n",
    "print(predictions)\n",
    "\n",
    "# Check your answer\n",
    "step_4.check()"
   ]
  },
  {
   "cell_type": "code",
   "execution_count": 11,
   "id": "soviet-south",
   "metadata": {
    "execution": {
     "iopub.execute_input": "2021-05-14T10:29:51.101916Z",
     "iopub.status.busy": "2021-05-14T10:29:51.100951Z",
     "iopub.status.idle": "2021-05-14T10:29:51.105068Z",
     "shell.execute_reply": "2021-05-14T10:29:51.104456Z"
    },
    "papermill": {
     "duration": 0.026768,
     "end_time": "2021-05-14T10:29:51.105219",
     "exception": false,
     "start_time": "2021-05-14T10:29:51.078451",
     "status": "completed"
    },
    "tags": []
   },
   "outputs": [],
   "source": [
    "# step_4.hint()\n",
    "#step_4.solution()"
   ]
  },
  {
   "cell_type": "markdown",
   "id": "crude-technique",
   "metadata": {
    "papermill": {
     "duration": 0.019403,
     "end_time": "2021-05-14T10:29:51.144597",
     "exception": false,
     "start_time": "2021-05-14T10:29:51.125194",
     "status": "completed"
    },
    "tags": []
   },
   "source": [
    "## Think About Your Results\n",
    "\n",
    "Use the `head` method to compare the top few predictions to the actual home values (in `y`) for those same homes. Anything surprising?\n"
   ]
  },
  {
   "cell_type": "code",
   "execution_count": 12,
   "id": "controversial-madagascar",
   "metadata": {
    "execution": {
     "iopub.execute_input": "2021-05-14T10:29:51.188217Z",
     "iopub.status.busy": "2021-05-14T10:29:51.187588Z",
     "iopub.status.idle": "2021-05-14T10:29:51.190392Z",
     "shell.execute_reply": "2021-05-14T10:29:51.189848Z"
    },
    "papermill": {
     "duration": 0.026262,
     "end_time": "2021-05-14T10:29:51.190536",
     "exception": false,
     "start_time": "2021-05-14T10:29:51.164274",
     "status": "completed"
    },
    "tags": []
   },
   "outputs": [],
   "source": [
    "# You can write code in this cell\n"
   ]
  },
  {
   "cell_type": "markdown",
   "id": "particular-saturn",
   "metadata": {
    "papermill": {
     "duration": 0.019528,
     "end_time": "2021-05-14T10:29:51.230719",
     "exception": false,
     "start_time": "2021-05-14T10:29:51.211191",
     "status": "completed"
    },
    "tags": []
   },
   "source": [
    "It's natural to ask how accurate the model's predictions will be and how you can improve that. That will be you're next step.\n",
    "\n",
    "# Keep Going\n",
    "\n",
    "You are ready for **[Model Validation](https://www.kaggle.com/dansbecker/model-validation).**\n"
   ]
  },
  {
   "cell_type": "markdown",
   "id": "turkish-september",
   "metadata": {
    "papermill": {
     "duration": 0.023269,
     "end_time": "2021-05-14T10:29:51.273981",
     "exception": false,
     "start_time": "2021-05-14T10:29:51.250712",
     "status": "completed"
    },
    "tags": []
   },
   "source": [
    "---\n",
    "\n",
    "\n",
    "\n",
    "\n",
    "*Have questions or comments? Visit the [Learn Discussion forum](https://www.kaggle.com/learn-forum/161285) to chat with other Learners.*"
   ]
  }
 ],
 "metadata": {
  "kernelspec": {
   "display_name": "Python 3",
   "language": "python",
   "name": "python3"
  },
  "language_info": {
   "codemirror_mode": {
    "name": "ipython",
    "version": 3
   },
   "file_extension": ".py",
   "mimetype": "text/x-python",
   "name": "python",
   "nbconvert_exporter": "python",
   "pygments_lexer": "ipython3",
   "version": "3.7.9"
  },
  "papermill": {
   "default_parameters": {},
   "duration": 9.087493,
   "end_time": "2021-05-14T10:29:52.013691",
   "environment_variables": {},
   "exception": null,
   "input_path": "__notebook__.ipynb",
   "output_path": "__notebook__.ipynb",
   "parameters": {},
   "start_time": "2021-05-14T10:29:42.926198",
   "version": "2.3.2"
  }
 },
 "nbformat": 4,
 "nbformat_minor": 5
}
